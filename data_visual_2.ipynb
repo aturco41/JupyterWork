{
 "cells": [
  {
   "cell_type": "code",
   "execution_count": 12,
   "metadata": {
    "collapsed": true
   },
   "outputs": [],
   "source": [
    "# Import necessary packages and load `winequality_edited.csv`\n",
    "import matplotlib.pyplot as plt\n",
    "import seaborn as sns\n",
    "% matplotlib inline\n",
    "import pandas as pd\n",
    "\n",
    "df = pd.read_csv('winequality_edited.csv')"
   ]
  },
  {
   "cell_type": "code",
   "execution_count": 13,
   "metadata": {
    "collapsed": true
   },
   "outputs": [],
   "source": [
    "# Use query to select each group and get its mean quality\n",
    "median = df['alcohol'].median()\n",
    "low = df.query('alcohol < {}'.format(median))\n",
    "high = df.query('alcohol >= {}'.format(median))\n",
    "\n",
    "mean_quality_low = low['quality'].mean()\n",
    "mean_quality_high = high['quality'].mean()"
   ]
  },
  {
   "cell_type": "code",
   "execution_count": 14,
   "metadata": {},
   "outputs": [
    {
     "data": {
      "image/png": "[encoded data removed]",
      "text/plain": [
       "<matplotlib.figure.Figure at 0x113b09828>"
      ]
     },
     "metadata": {},
     "output_type": "display_data"
    }
   ],
   "source": [
    "# Create a bar chart with proper labels\n",
    "locations = [1, 2]\n",
    "heights = [mean_quality_low, mean_quality_high]\n",
    "labels = ['Low', 'High']\n",
    "plt.bar(locations, heights, tick_label=labels)\n",
    "plt.title('Average Quality Ratings by Alcohol Content')\n",
    "plt.xlabel('Alcohol Content')\n",
    "plt.ylabel('Average Quality Rating');"
   ]
  },
  {
   "cell_type": "code",
   "execution_count": null,
   "metadata": {
    "collapsed": true
   },
   "outputs": [],
   "source": [
    "# Use query to select each group and get its mean quality\n",
    "median = df['residual sugar'].median()\n",
    "low = df.query('residual sugar < {}'.format(median))\n",
    "high = df.query('residual sugar > = {}'.format(median))\n",
    "\n",
    "mean_quality_low = low['quality'].mean()\n",
    "mean_quality_high = high['quality'].mean()"
   ]
  },
  {
   "cell_type": "code",
   "execution_count": 16,
   "metadata": {},
   "outputs": [
    {
     "data": {
      "image/png": "[encoded data removed]",
      "text/plain": [
       "<matplotlib.figure.Figure at 0x1a1a56c710>"
      ]
     },
     "metadata": {},
     "output_type": "display_data"
    }
   ],
   "source": [
    "# Create a bar chart with proper labels\n",
    "locations = [1, 2]\n",
    "heights = [mean_quality_low, mean_quality_high]\n",
    "labels = ['Low', 'High']\n",
    "plt.bar(locations, heights, tick_label=labels)\n",
    "plt.title('Average Quality Ratings by Sugar Content')\n",
    "plt.xlabel('Sugar Content')\n",
    "plt.ylabel('Average Quality Rating');\n"
   ]
  },
  {
   "cell_type": "code",
   "execution_count": 17,
   "metadata": {},
   "outputs": [
    {
     "name": "stdout",
     "output_type": "stream",
     "text": [
      "      fixed acidity  volatile acidity  citric acid  residual sugar  chlorides  \\\n",
      "0               7.0             0.270         0.36           20.70      0.045   \n",
      "1               6.3             0.300         0.34            1.60      0.049   \n",
      "2               8.1             0.280         0.40            6.90      0.050   \n",
      "3               7.2             0.230         0.32            8.50      0.058   \n",
      "4               7.2             0.230         0.32            8.50      0.058   \n",
      "5               8.1             0.280         0.40            6.90      0.050   \n",
      "6               6.2             0.320         0.16            7.00      0.045   \n",
      "7               7.0             0.270         0.36           20.70      0.045   \n",
      "8               6.3             0.300         0.34            1.60      0.049   \n",
      "9               8.1             0.220         0.43            1.50      0.044   \n",
      "10              8.1             0.270         0.41            1.45      0.033   \n",
      "11              8.6             0.230         0.40            4.20      0.035   \n",
      "12              7.9             0.180         0.37            1.20      0.040   \n",
      "13              6.6             0.160         0.40            1.50      0.044   \n",
      "14              8.3             0.420         0.62           19.25      0.040   \n",
      "15              6.6             0.170         0.38            1.50      0.032   \n",
      "16              6.3             0.480         0.04            1.10      0.046   \n",
      "17              6.2             0.660         0.48            1.20      0.029   \n",
      "18              7.4             0.340         0.42            1.10      0.033   \n",
      "19              6.5             0.310         0.14            7.50      0.044   \n",
      "20              6.2             0.660         0.48            1.20      0.029   \n",
      "21              6.4             0.310         0.38            2.90      0.038   \n",
      "22              6.8             0.260         0.42            1.70      0.049   \n",
      "23              7.6             0.670         0.14            1.50      0.074   \n",
      "24              6.6             0.270         0.41            1.30      0.052   \n",
      "25              7.0             0.250         0.32            9.00      0.046   \n",
      "26              6.9             0.240         0.35            1.00      0.052   \n",
      "27              7.0             0.280         0.39            8.70      0.051   \n",
      "28              7.4             0.270         0.48            1.10      0.047   \n",
      "29              7.2             0.320         0.36            2.00      0.033   \n",
      "...             ...               ...          ...             ...        ...   \n",
      "6467            6.2             0.510         0.14            1.90      0.056   \n",
      "6468            6.4             0.360         0.53            2.20      0.230   \n",
      "6469            6.4             0.380         0.14            2.20      0.038   \n",
      "6470            7.3             0.690         0.32            2.20      0.069   \n",
      "6471            6.0             0.580         0.20            2.40      0.075   \n",
      "6472            5.6             0.310         0.78           13.90      0.074   \n",
      "6473            7.5             0.520         0.40            2.20      0.060   \n",
      "6474            8.0             0.300         0.63            1.60      0.081   \n",
      "6475            6.2             0.700         0.15            5.10      0.076   \n",
      "6476            6.8             0.670         0.15            1.80      0.118   \n",
      "6477            6.2             0.560         0.09            1.70      0.053   \n",
      "6478            7.4             0.350         0.33            2.40      0.068   \n",
      "6479            6.2             0.560         0.09            1.70      0.053   \n",
      "6480            6.1             0.715         0.10            2.60      0.053   \n",
      "6481            6.2             0.460         0.29            2.10      0.074   \n",
      "6482            6.7             0.320         0.44            2.40      0.061   \n",
      "6483            7.2             0.390         0.44            2.60      0.066   \n",
      "6484            7.5             0.310         0.41            2.40      0.065   \n",
      "6485            5.8             0.610         0.11            1.80      0.066   \n",
      "6486            7.2             0.660         0.33            2.50      0.068   \n",
      "6487            6.6             0.725         0.20            7.80      0.073   \n",
      "6488            6.3             0.550         0.15            1.80      0.077   \n",
      "6489            5.4             0.740         0.09            1.70      0.089   \n",
      "6490            6.3             0.510         0.13            2.30      0.076   \n",
      "6491            6.8             0.620         0.08            1.90      0.068   \n",
      "6492            6.2             0.600         0.08            2.00      0.090   \n",
      "6493            5.9             0.550         0.10            2.20      0.062   \n",
      "6494            6.3             0.510         0.13            2.30      0.076   \n",
      "6495            5.9             0.645         0.12            2.00      0.075   \n",
      "6496            6.0             0.310         0.47            3.60      0.067   \n",
      "\n",
      "      free sulfur dioxide  total sulfur dioxide  density    pH  sulphates  \\\n",
      "0                    45.0                 170.0  1.00100  3.00       0.45   \n",
      "1                    14.0                 132.0  0.99400  3.30       0.49   \n",
      "2                    30.0                  97.0  0.99510  3.26       0.44   \n",
      "3                    47.0                 186.0  0.99560  3.19       0.40   \n",
      "4                    47.0                 186.0  0.99560  3.19       0.40   \n",
      "5                    30.0                  97.0  0.99510  3.26       0.44   \n",
      "6                    30.0                 136.0  0.99490  3.18       0.47   \n",
      "7                    45.0                 170.0  1.00100  3.00       0.45   \n",
      "8                    14.0                 132.0  0.99400  3.30       0.49   \n",
      "9                    28.0                 129.0  0.99380  3.22       0.45   \n",
      "10                   11.0                  63.0  0.99080  2.99       0.56   \n",
      "11                   17.0                 109.0  0.99470  3.14       0.53   \n",
      "12                   16.0                  75.0  0.99200  3.18       0.63   \n",
      "13                   48.0                 143.0  0.99120  3.54       0.52   \n",
      "14                   41.0                 172.0  1.00020  2.98       0.67   \n",
      "15                   28.0                 112.0  0.99140  3.25       0.55   \n",
      "16                   30.0                  99.0  0.99280  3.24       0.36   \n",
      "17                   29.0                  75.0  0.98920  3.33       0.39   \n",
      "18                   17.0                 171.0  0.99170  3.12       0.53   \n",
      "19                   34.0                 133.0  0.99550  3.22       0.50   \n",
      "20                   29.0                  75.0  0.98920  3.33       0.39   \n",
      "21                   19.0                 102.0  0.99120  3.17       0.35   \n",
      "22                   41.0                 122.0  0.99300  3.47       0.48   \n",
      "23                   25.0                 168.0  0.99370  3.05       0.51   \n",
      "24                   16.0                 142.0  0.99510  3.42       0.47   \n",
      "25                   56.0                 245.0  0.99550  3.25       0.50   \n",
      "26                   35.0                 146.0  0.99300  3.45       0.44   \n",
      "27                   32.0                 141.0  0.99610  3.38       0.53   \n",
      "28                   17.0                 132.0  0.99140  3.19       0.49   \n",
      "29                   37.0                 114.0  0.99060  3.10       0.71   \n",
      "...                   ...                   ...      ...   ...        ...   \n",
      "6467                 15.0                  34.0  0.99396  3.48       0.57   \n",
      "6468                 19.0                  35.0  0.99340  3.37       0.93   \n",
      "6469                 15.0                  25.0  0.99514  3.44       0.65   \n",
      "6470                 35.0                 104.0  0.99632  3.33       0.51   \n",
      "6471                 15.0                  50.0  0.99467  3.58       0.67   \n",
      "6472                 23.0                  92.0  0.99677  3.39       0.48   \n",
      "6473                 12.0                  20.0  0.99474  3.26       0.64   \n",
      "6474                 16.0                  29.0  0.99588  3.30       0.78   \n",
      "6475                 13.0                  27.0  0.99622  3.54       0.60   \n",
      "6476                 13.0                  20.0  0.99540  3.42       0.67   \n",
      "6477                 24.0                  32.0  0.99402  3.54       0.60   \n",
      "6478                  9.0                  26.0  0.99470  3.36       0.60   \n",
      "6479                 24.0                  32.0  0.99402  3.54       0.60   \n",
      "6480                 13.0                  27.0  0.99362  3.57       0.50   \n",
      "6481                 32.0                  98.0  0.99578  3.33       0.62   \n",
      "6482                 24.0                  34.0  0.99484  3.29       0.80   \n",
      "6483                 22.0                  48.0  0.99494  3.30       0.84   \n",
      "6484                 34.0                  60.0  0.99492  3.34       0.85   \n",
      "6485                 18.0                  28.0  0.99483  3.55       0.66   \n",
      "6486                 34.0                 102.0  0.99414  3.27       0.78   \n",
      "6487                 29.0                  79.0  0.99770  3.29       0.54   \n",
      "6488                 26.0                  35.0  0.99314  3.32       0.82   \n",
      "6489                 16.0                  26.0  0.99402  3.67       0.56   \n",
      "6490                 29.0                  40.0  0.99574  3.42       0.75   \n",
      "6491                 28.0                  38.0  0.99651  3.42       0.82   \n",
      "6492                 32.0                  44.0  0.99490  3.45       0.58   \n",
      "6493                 39.0                  51.0  0.99512  3.52       0.76   \n",
      "6494                 29.0                  40.0  0.99574  3.42       0.75   \n",
      "6495                 32.0                  44.0  0.99547  3.57       0.71   \n",
      "6496                 18.0                  42.0  0.99549  3.39       0.66   \n",
      "\n",
      "      alcohol  quality  color  \n",
      "0         8.8        6  white  \n",
      "1         9.5        6  white  \n",
      "2        10.1        6  white  \n",
      "3         9.9        6  white  \n",
      "4         9.9        6  white  \n",
      "5        10.1        6  white  \n",
      "6         9.6        6  white  \n",
      "7         8.8        6  white  \n",
      "8         9.5        6  white  \n",
      "9        11.0        6  white  \n",
      "10       12.0        5  white  \n",
      "11        9.7        5  white  \n",
      "12       10.8        5  white  \n",
      "13       12.4        7  white  \n",
      "14        9.7        5  white  \n",
      "15       11.4        7  white  \n",
      "16        9.6        6  white  \n",
      "17       12.8        8  white  \n",
      "18       11.3        6  white  \n",
      "19        9.5        5  white  \n",
      "20       12.8        8  white  \n",
      "21       11.0        7  white  \n",
      "22       10.5        8  white  \n",
      "23        9.3        5  white  \n",
      "24       10.0        6  white  \n",
      "25       10.4        6  white  \n",
      "26       10.0        6  white  \n",
      "27       10.5        6  white  \n",
      "28       11.6        6  white  \n",
      "29       12.3        7  white  \n",
      "...       ...      ...    ...  \n",
      "6467     11.5        6    red  \n",
      "6468     12.4        6    red  \n",
      "6469     11.1        6    red  \n",
      "6470      9.5        5    red  \n",
      "6471     12.5        6    red  \n",
      "6472     10.5        6    red  \n",
      "6473     11.8        6    red  \n",
      "6474     10.8        6    red  \n",
      "6475     11.9        6    red  \n",
      "6476     11.3        6    red  \n",
      "6477     11.3        5    red  \n",
      "6478     11.9        6    red  \n",
      "6479     11.3        5    red  \n",
      "6480     11.9        5    red  \n",
      "6481      9.8        5    red  \n",
      "6482     11.6        7    red  \n",
      "6483     11.5        6    red  \n",
      "6484     11.4        6    red  \n",
      "6485     10.9        6    red  \n",
      "6486     12.8        6    red  \n",
      "6487      9.2        5    red  \n",
      "6488     11.6        6    red  \n",
      "6489     11.6        6    red  \n",
      "6490     11.0        6    red  \n",
      "6491      9.5        6    red  \n",
      "6492     10.5        5    red  \n",
      "6493     11.2        6    red  \n",
      "6494     11.0        6    red  \n",
      "6495     10.2        5    red  \n",
      "6496     11.0        6    red  \n",
      "\n",
      "[6497 rows x 13 columns]\n"
     ]
    }
   ],
   "source": [
    "# Use groupby to get the mean quality for each acidity level\n",
    "print(df)"
   ]
  },
  {
   "cell_type": "code",
   "execution_count": null,
   "metadata": {
    "collapsed": true
   },
   "outputs": [],
   "source": [
    "# Create a bar chart with proper labels\n",
    "df.groupby('acidity_levels')['quality'].mean()\n",
    "locations = [1, 2,]\n",
    "heights = [mean_quality_low, mean_quality_high]\n",
    "labels = ['Low', 'Medium,']\n",
    "plt.bar(locations, heights, tick_label=labels)\n",
    "plt.title('Average Quality Ratings by Acidity Levels')\n",
    "plt.xlabel('Acidity Level')\n",
    "plt.ylabel('Average Quality Rating');\n",
    "locations = [3, 4,]\n",
    "heights = [mean_quality_low, mean_quality_high]\n",
    "labels = ['Moderately High', 'High']\n",
    "plt.bar(locations, heights, tick_label=labels)\n",
    "plt.title('Average Quality Ratings by Acidity Levels')\n",
    "plt.xlabel('Acidity Level')\n",
    "plt.ylabel('Average Quality Rating');\n"
   ]
  },
  {
   "cell_type": "code",
   "execution_count": null,
   "metadata": {
    "collapsed": true
   },
   "outputs": [],
   "source": [
    "df.groupby('acidity_levels')['quality'].mean().plot(kind = 'line', x= 'acidity_levels', y = 'quality')\n",
    "\n",
    "\n",
    "#plt.figure()\n",
    "\n",
    "#df3 = df(), columns=['acidity_level', 'quality'].cumsum()\n",
    "\n",
    "#df3['A'] = Series(list(range(len(df))))\n",
    "\n",
    "#df3.plot(x='A', y='B')\n",
    "\n"
   ]
  },
  {
   "cell_type": "code",
   "execution_count": null,
   "metadata": {
    "collapsed": true
   },
   "outputs": [],
   "source": []
  }
 ],
 "metadata": {
  "kernelspec": {
   "display_name": "Python [conda env:anaconda3]",
   "language": "python",
   "name": "conda-env-anaconda3-py"
  },
  "language_info": {
   "codemirror_mode": {
    "name": "ipython",
    "version": 3
   },
   "file_extension": ".py",
   "mimetype": "text/x-python",
   "name": "python",
   "nbconvert_exporter": "python",
   "pygments_lexer": "ipython3",
   "version": "3.6.4"
  }
 },
 "nbformat": 4,
 "nbformat_minor": 2
}
